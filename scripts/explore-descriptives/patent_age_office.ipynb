{
 "cells": [
  {
   "cell_type": "code",
   "execution_count": 1,
   "metadata": {},
   "outputs": [],
   "source": [
    "using Model\n",
    "using Dictionaries, SplitApplyCombine\n",
    "using DataFramesMeta, Dates\n",
    "using CairoMakie\n",
    "using StatsBase"
   ]
  },
  {
   "cell_type": "code",
   "execution_count": 2,
   "metadata": {},
   "outputs": [],
   "source": [
    "decisions = Model.loaddata(\"../../data/processed/json_augmented\");"
   ]
  },
  {
   "cell_type": "markdown",
   "metadata": {},
   "source": [
    "# Patent age"
   ]
  },
  {
   "cell_type": "code",
   "execution_count": 17,
   "metadata": {},
   "outputs": [
    {
     "data": {
      "image/png": "[encoded data removed]"
     },
     "metadata": {},
     "output_type": "display_data"
    }
   ],
   "source": [
    "histargs = (bins=30, color=:grey70, strokewidth=1)\n",
    "figure = (; resolution=(700,300))\n",
    "axis = (; title = \"Age distribution of patents with BPatG cases\", titlealign=:left)\n",
    "hist(patentage.(decisions); figure, axis, histargs...)"
   ]
  },
  {
   "cell_type": "code",
   "execution_count": 19,
   "metadata": {},
   "outputs": [
    {
     "data": {
      "text/plain": [
       "0.6185819070904646"
      ]
     },
     "metadata": {},
     "output_type": "display_data"
    }
   ],
   "source": [
    "count(>=(10), patentage.(decisions)) / length(decisions)"
   ]
  },
  {
   "cell_type": "code",
   "execution_count": 6,
   "metadata": {},
   "outputs": [
    {
     "data": {
      "text/plain": [
       "(Date(\"2015-07-03\"), Patent(\"DE1516269\", Date(\"1969-07-17\"), [\"G01R  13/28\", \"H03K  17/6257\"]))"
      ]
     },
     "metadata": {},
     "output_type": "display_data"
    }
   ],
   "source": [
    "let i = findall(d -> patentage(d) > 30, decisions)\n",
    "    d = decisions[i] |> first\n",
    "    date(d), patent(d)\n",
    "end"
   ]
  },
  {
   "cell_type": "code",
   "execution_count": 7,
   "metadata": {},
   "outputs": [
    {
     "data": {
      "text/plain": [
       "3-element Dictionary{Outcome, Float64}\n",
       " Outcome(1, \"partially annulled\") │ 11.522992442135099\n",
       "    Outcome(0, \"claim dismissed\") │ 12.176261899233804\n",
       "           Outcome(1, \"annulled\") │ 11.975574645925237"
      ]
     },
     "metadata": {},
     "output_type": "display_data"
    }
   ],
   "source": [
    "map(ds -> mean(patentage.(ds)), group(outcome, decisions))"
   ]
  },
  {
   "cell_type": "code",
   "execution_count": 8,
   "metadata": {},
   "outputs": [
    {
     "data": {
      "text/plain": [
       "8-element Dictionary{Senate, Float64}\n",
       " Senate(1, \"1. Senate\") │ 11.018951122639216\n",
       " Senate(2, \"2. Senate\") │ 11.927102212855637\n",
       " Senate(3, \"3. Senate\") │ 11.747488584474887\n",
       " Senate(4, \"4. Senate\") │ 11.183312577833126\n",
       " Senate(0, \"0. Senate\") │ 11.12509012256669\n",
       " Senate(5, \"5. Senate\") │ 12.986692759295499\n",
       " Senate(6, \"6. Senate\") │ 14.24995107632094\n",
       " Senate(7, \"7. Senate\") │ 11.91826484018265"
      ]
     },
     "metadata": {},
     "output_type": "display_data"
    }
   ],
   "source": [
    "map(ds -> mean(patentage.(ds)), group(senate, decisions))"
   ]
  },
  {
   "cell_type": "markdown",
   "metadata": {},
   "source": [
    "# Patent office"
   ]
  },
  {
   "cell_type": "code",
   "execution_count": 13,
   "metadata": {},
   "outputs": [],
   "source": [
    "function summarize_outcome(ds)\n",
    "    n = length(ds)\n",
    "    countf(l) = count(d -> label(outcome(d)) == l, ds) / n\n",
    "    outcome_labels = (\"claim dismissed\", \"partially annulled\", \"annulled\")\n",
    "    dismissed, partial, annulled = round.(countf.(outcome_labels); digits=3)\n",
    "    (;n, dismissed, partial, annulled)\n",
    "end;"
   ]
  },
  {
   "cell_type": "code",
   "execution_count": 14,
   "metadata": {},
   "outputs": [
    {
     "data": {
      "text/plain": [
       "2-element Dictionary{String, NamedTuple{(:n, :dismissed, :partial, :annulled), Tuple{Int64, Float64, Float64, Float64}}}\n",
       " \"EP\" │ (n = 880, dismissed = 0.243, partial = 0.56, annulled = 0.197)\n",
       " \"DE\" │ (n = 347, dismissed = 0.233, partial = 0.585, annulled = 0.182)"
      ]
     },
     "metadata": {},
     "output_type": "display_data"
    }
   ],
   "source": [
    "map(summarize_outcome, group(office ∘ patent, decisions))"
   ]
  },
  {
   "cell_type": "code",
   "execution_count": null,
   "metadata": {},
   "outputs": [],
   "source": []
  }
 ],
 "metadata": {
  "kernelspec": {
   "display_name": "Julia 1.8.5",
   "language": "julia",
   "name": "julia-1.8"
  },
  "language_info": {
   "file_extension": ".jl",
   "mimetype": "application/julia",
   "name": "julia",
   "version": "1.8.5"
  },
  "orig_nbformat": 4,
  "vscode": {
   "interpreter": {
    "hash": "2a8dfe095fce2b5e88c64a2c3ee084c8e0e0d70b23e7b95b1cfb538be294c5c8"
   }
  }
 },
 "nbformat": 4,
 "nbformat_minor": 2
}
