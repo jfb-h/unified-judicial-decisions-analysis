{
 "cells": [
  {
   "cell_type": "code",
   "execution_count": 1,
   "metadata": {},
   "outputs": [],
   "source": [
    "using Model\n",
    "using Dictionaries, SplitApplyCombine\n",
    "using Distributions\n",
    "using LogExpFunctions: softmax\n",
    "using FillArrays\n",
    "using LinearAlgebra\n",
    "using TransformVariables\n",
    "using StructArrays\n",
    "using CairoMakie"
   ]
  },
  {
   "cell_type": "code",
   "execution_count": 2,
   "metadata": {},
   "outputs": [],
   "source": [
    "decisions = loaddata(\"../../../data/processed/json_augmented\");"
   ]
  },
  {
   "cell_type": "code",
   "execution_count": 3,
   "metadata": {},
   "outputs": [],
   "source": [
    "struct MixedMembershipCategoricalModel <: Model.AbstractDecisionModel\n",
    "    ys::Vector{Int}\n",
    "    js::Vector{Vector{Int}}\n",
    "    J::Int\n",
    "    labels::Vector{String}\n",
    "end\n",
    "\n",
    "function MixedMembershipCategoricalModel(decisions::Vector{Decision})\n",
    "    outcomes = [\"annulled\", \"claim dismissed\", \"partially annulled\"]\n",
    "    ys = [findfirst(==(label(outcome(d))), outcomes) for d in decisions]    \n",
    "    js = map(d -> id.(judges(d)), decisions) \n",
    "    J = length(unique(reduce(vcat, js)))\n",
    "    MixedMembershipCategoricalModel(ys, js, J, outcomes)\n",
    "end;"
   ]
  },
  {
   "cell_type": "code",
   "execution_count": 4,
   "metadata": {},
   "outputs": [
    {
     "data": {
      "text/plain": [
       "logprior (generic function with 1 method)"
      ]
     },
     "metadata": {},
     "output_type": "display_data"
    }
   ],
   "source": [
    "function loglikelihood(θ; problem)\n",
    "    (; ys, js) = problem\n",
    "    (; β) = θ\n",
    "\n",
    "    sum(eachindex(ys)) do i\n",
    "        jsᵢ = js[i]\n",
    "        ηᵢ = sum(@views β[:,j] for j in jsᵢ)\n",
    "        logpdf(Categorical(softmax(vcat(0.0, ηᵢ))), ys[i])\n",
    "    end\n",
    "end\n",
    "\n",
    "function logprior(θ)\n",
    "    (; β) = θ\n",
    "    k = size(β, 1)\n",
    "    d = MvNormal(Zeros(k), I)\n",
    "    sum(eachcol(β)) do p\n",
    "        logpdf(d, p)\n",
    "    end\n",
    "end"
   ]
  },
  {
   "cell_type": "code",
   "execution_count": 5,
   "metadata": {},
   "outputs": [],
   "source": [
    "function (problem::MixedMembershipCategoricalModel)(θ)\n",
    "    loglikelihood(θ; problem) + logprior(θ)\n",
    "end"
   ]
  },
  {
   "cell_type": "code",
   "execution_count": 6,
   "metadata": {},
   "outputs": [],
   "source": [
    "function Model.transformation(problem::MixedMembershipCategoricalModel)\n",
    "    as((β=as(Array, asℝ, (2, problem.J)),))\n",
    "end"
   ]
  },
  {
   "cell_type": "code",
   "execution_count": 7,
   "metadata": {},
   "outputs": [
    {
     "data": {
      "text/plain": [
       "MixedMembershipCategoricalModel([3, 3, 3, 2, 3, 1, 2, 1, 3, 3  …  2, 2, 1, 3, 3, 1, 3, 3, 1, 2], [[54, 184, 61, 110, 200], [54, 6, 36, 76, 200], [168, 184, 151, 6, 61], [168, 184, 61, 110, 151], [169, 6, 36, 76, 54], [168, 151, 6, 36, 76], [169, 6, 36, 76, 54], [169, 184, 61, 54, 110], [100, 84, 9, 34, 80], [51, 139, 37, 173, 110]  …  [33, 123, 188, 4, 115], [33, 188, 4, 115, 180], [33, 188, 166, 3, 29], [33, 123, 188, 4, 115], [140, 49, 190, 167, 158], [140, 179, 158, 30, 199], [139, 7, 158, 30, 68], [140, 139, 7, 30, 68], [140, 158, 35, 190, 167], [140, 139, 35, 190, 167]], 200, [\"annulled\", \"claim dismissed\", \"partially annulled\"])"
      ]
     },
     "metadata": {},
     "output_type": "display_data"
    }
   ],
   "source": [
    "problem = MixedMembershipCategoricalModel(decisions)"
   ]
  },
  {
   "cell_type": "code",
   "execution_count": 10,
   "metadata": {},
   "outputs": [],
   "source": [
    "post = Model.sample(problem, 500, 4)"
   ]
  }
 ],
 "metadata": {
  "kernelspec": {
   "display_name": "Julia 1.8.5",
   "language": "julia",
   "name": "julia-1.8"
  },
  "language_info": {
   "file_extension": ".jl",
   "mimetype": "application/julia",
   "name": "julia",
   "version": "1.8.5"
  },
  "orig_nbformat": 4,
  "vscode": {
   "interpreter": {
    "hash": "2a8dfe095fce2b5e88c64a2c3ee084c8e0e0d70b23e7b95b1cfb538be294c5c8"
   }
  }
 },
 "nbformat": 4,
 "nbformat_minor": 2
}
